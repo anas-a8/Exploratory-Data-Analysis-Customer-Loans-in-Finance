{
 "cells": [
  {
   "cell_type": "code",
   "execution_count": 1,
   "metadata": {},
   "outputs": [],
   "source": [
    "# main.ipynb\n",
    "\n",
    "# Import necessary modules\n",
    "from data_transform import DataTransform, DataFrameInfo\n",
    "import pandas as pd"
   ]
  },
  {
   "cell_type": "code",
   "execution_count": 2,
   "metadata": {},
   "outputs": [],
   "source": [
    "# Step 1: Load the data\n",
    "# Assuming the data is in CSV format called 'loan_payments.csv' in the current directory\n",
    "df = pd.read_csv(\"loan_payments.csv\")"
   ]
  },
  {
   "cell_type": "code",
   "execution_count": 3,
   "metadata": {},
   "outputs": [],
   "source": [
    "# Step 2: Initialize the DataTransform and DataFrameInfo classes\n",
    "transformer = DataTransform(df)\n",
    "df_info = DataFrameInfo(transformer.df)"
   ]
  },
  {
   "cell_type": "code",
   "execution_count": 4,
   "metadata": {},
   "outputs": [
    {
     "name": "stdout",
     "output_type": "stream",
     "text": [
      "Column 'term' contains non-numeric values or is not numeric.\n",
      "Column 'grade' contains non-numeric values or is not numeric.\n",
      "Column 'sub_grade' contains non-numeric values or is not numeric.\n",
      "Column 'employment_length' contains non-numeric values or is not numeric.\n",
      "Column 'home_ownership' contains non-numeric values or is not numeric.\n",
      "Column 'verification_status' contains non-numeric values or is not numeric.\n",
      "Column 'issue_date' contains non-numeric values or is not numeric.\n",
      "Column 'loan_status' contains non-numeric values or is not numeric.\n",
      "Column 'payment_plan' contains non-numeric values or is not numeric.\n",
      "Column 'purpose' contains non-numeric values or is not numeric.\n",
      "Column 'earliest_credit_line' contains non-numeric values or is not numeric.\n",
      "Column 'last_payment_date' contains non-numeric values or is not numeric.\n",
      "Column 'next_payment_date' contains non-numeric values or is not numeric.\n",
      "Column 'last_credit_pull_date' contains non-numeric values or is not numeric.\n",
      "Column 'application_type' contains non-numeric values or is not numeric.\n"
     ]
    }
   ],
   "source": [
    "# Step 3: Identify non-numeric columns\n",
    "non_numeric_cols = transformer.identify_non_numeric_columns()"
   ]
  },
  {
   "cell_type": "code",
   "execution_count": 6,
   "metadata": {},
   "outputs": [
    {
     "name": "stdout",
     "output_type": "stream",
     "text": [
      "Warning: 3007 non-numeric values in 'funded_amount' were coerced to NaN.\n",
      "Warning: 5169 non-numeric values in 'int_rate' were coerced to NaN.\n",
      "Converted to numeric: ['loan_amount', 'funded_amount', 'int_rate', 'annual_inc', 'dti']\n"
     ]
    }
   ],
   "source": [
    "# Step 4: Convert columns to appropriate data types\n",
    "# Convert identified columns to numeric where possible\n",
    "transformer.convert_to_numeric(['loan_amount', 'funded_amount', 'int_rate', 'annual_inc', 'dti'])"
   ]
  },
  {
   "cell_type": "code",
   "execution_count": 8,
   "metadata": {},
   "outputs": [
    {
     "name": "stdout",
     "output_type": "stream",
     "text": [
      "Converted to datetime: ['issue_date', 'earliest_credit_line', 'last_payment_date', 'next_payment_date', 'last_credit_pull_date']\n"
     ]
    }
   ],
   "source": [
    "# Convert certain columns to datetime where needed\n",
    "datetime_columns = ['issue_date', 'earliest_credit_line', 'last_payment_date', 'next_payment_date', 'last_credit_pull_date']\n",
    "transformer.convert_to_datetime(datetime_columns)"
   ]
  },
  {
   "cell_type": "code",
   "execution_count": 10,
   "metadata": {},
   "outputs": [
    {
     "name": "stdout",
     "output_type": "stream",
     "text": [
      "Converted to categorical: ['term', 'grade', 'sub_grade', 'employment_length', 'home_ownership', 'verification_status', 'loan_status', 'payment_plan', 'purpose', 'application_type']\n"
     ]
    }
   ],
   "source": [
    "# Convert certain columns to categorical\n",
    "categorical_columns = ['term', 'grade', 'sub_grade', 'employment_length', 'home_ownership', 'verification_status', \n",
    "                       'loan_status', 'payment_plan', 'purpose', 'application_type']\n",
    "transformer.convert_to_categorical(categorical_columns)"
   ]
  },
  {
   "cell_type": "code",
   "execution_count": 8,
   "metadata": {},
   "outputs": [
    {
     "name": "stdout",
     "output_type": "stream",
     "text": [
      "Skew reduced for columns: ['loan_amount', 'funded_amount', 'int_rate', 'annual_inc', 'dti']\n"
     ]
    }
   ],
   "source": [
    "# Reduce skewness in specific numeric columns\n",
    "numeric_columns = ['loan_amount', 'funded_amount', 'int_rate', 'annual_inc', 'dti']\n",
    "transformer.reduce_skew(numeric_columns)"
   ]
  },
  {
   "cell_type": "code",
   "execution_count": 12,
   "metadata": {},
   "outputs": [
    {
     "name": "stdout",
     "output_type": "stream",
     "text": [
      "Skipping non-numeric column: term\n",
      "Skipping non-numeric column: grade\n",
      "Skipping non-numeric column: sub_grade\n",
      "Skipping non-numeric column: employment_length\n",
      "Skipping non-numeric column: home_ownership\n",
      "Skipping non-numeric column: verification_status\n",
      "Skipping non-numeric column: issue_date\n",
      "Skipping non-numeric column: loan_status\n",
      "Skipping non-numeric column: payment_plan\n",
      "Skipping non-numeric column: purpose\n",
      "Skipping non-numeric column: earliest_credit_line\n",
      "Skipping non-numeric column: last_payment_date\n",
      "Skipping non-numeric column: next_payment_date\n",
      "Skipping non-numeric column: last_credit_pull_date\n",
      "Skipping non-numeric column: application_type\n",
      "Missing values imputed using mean\n"
     ]
    }
   ],
   "source": [
    "# Step 5: Impute missing values\n",
    "# Use the mean strategy to impute missing values\n",
    "transformer.impute_missing(strategy='mean')"
   ]
  },
  {
   "cell_type": "code",
   "execution_count": 14,
   "metadata": {},
   "outputs": [
    {
     "name": "stdout",
     "output_type": "stream",
     "text": [
      "Skew reduced for columns: ['loan_amount', 'funded_amount', 'int_rate', 'annual_inc', 'dti']\n"
     ]
    }
   ],
   "source": [
    "# Step 6: Reduce skewness for specified columns\n",
    "# Identify columns that may be skewed and apply transformations to reduce skewness\n",
    "skewed_columns = ['loan_amount', 'funded_amount', 'int_rate', 'annual_inc', 'dti']\n",
    "transformer.reduce_skew(skewed_columns)\n",
    "\n"
   ]
  },
  {
   "cell_type": "code",
   "execution_count": 15,
   "metadata": {},
   "outputs": [
    {
     "name": "stdout",
     "output_type": "stream",
     "text": [
      "Outliers removed from: ['loan_amount', 'funded_amount', 'int_rate', 'annual_inc', 'dti']\n"
     ]
    }
   ],
   "source": [
    "# Step 7: Remove outliers from specified columns\n",
    "# Apply threshold to remove extreme outliers\n",
    "transformer.remove_outliers(columns=['loan_amount', 'funded_amount', 'int_rate', 'annual_inc', 'dti'], threshold=3)"
   ]
  },
  {
   "cell_type": "code",
   "execution_count": 16,
   "metadata": {},
   "outputs": [
    {
     "name": "stdout",
     "output_type": "stream",
     "text": [
      "Dropped highly correlated columns: ['member_id', 'funded_amount', 'funded_amount_inv', 'instalment', 'out_prncp_inv', 'total_payment', 'total_payment_inv', 'total_rec_prncp', 'collection_recovery_fee']\n"
     ]
    }
   ],
   "source": [
    "# Step 8: Drop highly correlated columns\n",
    "# Drop columns that are highly correlated above a specified threshold (0.8 by default)\n",
    "transformer.drop_highly_correlated(threshold=0.8)"
   ]
  },
  {
   "cell_type": "code",
   "execution_count": 17,
   "metadata": {},
   "outputs": [
    {
     "name": "stdout",
     "output_type": "stream",
     "text": [
      "<class 'pandas.core.frame.DataFrame'>\n",
      "RangeIndex: 54231 entries, 0 to 54230\n",
      "Data columns (total 43 columns):\n",
      " #   Column                       Non-Null Count  Dtype         \n",
      "---  ------                       --------------  -----         \n",
      " 0   id                           54231 non-null  int64         \n",
      " 1   member_id                    54231 non-null  int64         \n",
      " 2   loan_amount                  54231 non-null  int64         \n",
      " 3   funded_amount                54231 non-null  float64       \n",
      " 4   funded_amount_inv            54231 non-null  float64       \n",
      " 5   term                         49459 non-null  category      \n",
      " 6   int_rate                     54231 non-null  float64       \n",
      " 7   instalment                   54231 non-null  float64       \n",
      " 8   grade                        54231 non-null  category      \n",
      " 9   sub_grade                    54231 non-null  category      \n",
      " 10  employment_length            52113 non-null  category      \n",
      " 11  home_ownership               54231 non-null  category      \n",
      " 12  annual_inc                   54231 non-null  float64       \n",
      " 13  verification_status          54231 non-null  category      \n",
      " 14  issue_date                   54231 non-null  datetime64[ns]\n",
      " 15  loan_status                  54231 non-null  category      \n",
      " 16  payment_plan                 54231 non-null  category      \n",
      " 17  purpose                      54231 non-null  category      \n",
      " 18  dti                          54231 non-null  float64       \n",
      " 19  delinq_2yrs                  54231 non-null  int64         \n",
      " 20  earliest_credit_line         54231 non-null  datetime64[ns]\n",
      " 21  inq_last_6mths               54231 non-null  int64         \n",
      " 22  mths_since_last_delinq       54231 non-null  float64       \n",
      " 23  mths_since_last_record       54231 non-null  float64       \n",
      " 24  open_accounts                54231 non-null  int64         \n",
      " 25  total_accounts               54231 non-null  int64         \n",
      " 26  out_prncp                    54231 non-null  float64       \n",
      " 27  out_prncp_inv                54231 non-null  float64       \n",
      " 28  total_payment                54231 non-null  float64       \n",
      " 29  total_payment_inv            54231 non-null  float64       \n",
      " 30  total_rec_prncp              54231 non-null  float64       \n",
      " 31  total_rec_int                54231 non-null  float64       \n",
      " 32  total_rec_late_fee           54231 non-null  float64       \n",
      " 33  recoveries                   54231 non-null  float64       \n",
      " 34  collection_recovery_fee      54231 non-null  float64       \n",
      " 35  last_payment_date            54158 non-null  datetime64[ns]\n",
      " 36  last_payment_amount          54231 non-null  float64       \n",
      " 37  next_payment_date            21623 non-null  datetime64[ns]\n",
      " 38  last_credit_pull_date        54224 non-null  datetime64[ns]\n",
      " 39  collections_12_mths_ex_med   54231 non-null  float64       \n",
      " 40  mths_since_last_major_derog  54231 non-null  float64       \n",
      " 41  policy_code                  54231 non-null  int64         \n",
      " 42  application_type             54231 non-null  category      \n",
      "dtypes: category(10), datetime64[ns](5), float64(20), int64(8)\n",
      "memory usage: 14.2 MB\n"
     ]
    }
   ],
   "source": [
    "# Step 9: Display data types and statistics about the DataFrame\n",
    "# Get a description of all columns to see data types and basic information\n",
    "df_info.describe_columns()"
   ]
  },
  {
   "cell_type": "code",
   "execution_count": 18,
   "metadata": {},
   "outputs": [
    {
     "name": "stdout",
     "output_type": "stream",
     "text": [
      "                                                      mean  \\\n",
      "id                                          7621797.476277   \n",
      "member_id                                   8655349.927993   \n",
      "loan_amount                                     13333.0761   \n",
      "funded_amount                                 13229.509117   \n",
      "funded_amount_inv                             12952.622979   \n",
      "int_rate                                         13.507328   \n",
      "instalment                                      400.013953   \n",
      "annual_inc                                        11.03803   \n",
      "issue_date                   2018-09-17 11:41:04.855894272   \n",
      "dti                                              15.867087   \n",
      "delinq_2yrs                                       0.241799   \n",
      "earliest_credit_line         1997-06-06 07:12:44.131216512   \n",
      "inq_last_6mths                                    0.893843   \n",
      "mths_since_last_delinq                             34.0192   \n",
      "mths_since_last_record                           74.829154   \n",
      "open_accounts                                    10.559809   \n",
      "total_accounts                                   24.168206   \n",
      "out_prncp                                      2753.964172   \n",
      "out_prncp_inv                                  2752.568147   \n",
      "total_payment                                  12079.20848   \n",
      "total_payment_inv                             11788.946618   \n",
      "total_rec_prncp                                9407.048589   \n",
      "total_rec_int                                  2577.757101   \n",
      "total_rec_late_fee                                0.901512   \n",
      "recoveries                                       93.501288   \n",
      "collection_recovery_fee                          10.859057   \n",
      "last_payment_date            2020-08-23 00:21:38.600391680   \n",
      "last_payment_amount                            3130.706393   \n",
      "next_payment_date            2021-10-18 16:47:47.613189632   \n",
      "last_credit_pull_date        2021-04-15 16:16:28.964296192   \n",
      "collections_12_mths_ex_med                        0.004208   \n",
      "mths_since_last_major_derog                      42.253634   \n",
      "policy_code                                            1.0   \n",
      "\n",
      "                                          median              std  \n",
      "id                                     7084590.0   9571361.647372  \n",
      "member_id                              8709873.0  10312806.882093  \n",
      "loan_amount                              12000.0      8082.196709  \n",
      "funded_amount                            12000.0      7793.523865  \n",
      "funded_amount_inv                        11300.0      8099.473527  \n",
      "int_rate                               13.507328         4.178294  \n",
      "instalment                                347.15       238.920012  \n",
      "annual_inc                             11.018646         0.530958  \n",
      "issue_date                   2019-09-01 00:00:00              NaN  \n",
      "dti                                         15.6         7.623124  \n",
      "delinq_2yrs                                  0.0         0.706706  \n",
      "earliest_credit_line         1998-10-01 00:00:00              NaN  \n",
      "inq_last_6mths                               1.0         1.261421  \n",
      "mths_since_last_delinq                   34.0192        14.347983  \n",
      "mths_since_last_record                 74.829154        12.199154  \n",
      "open_accounts                               10.0         4.797169  \n",
      "total_accounts                              23.0        11.587025  \n",
      "out_prncp                                    0.0      5154.893646  \n",
      "out_prncp_inv                                0.0      5153.043643  \n",
      "total_payment                           10113.25      8391.043845  \n",
      "total_payment_inv                        9835.83      8363.508506  \n",
      "total_rec_prncp                          7644.92      6958.124264  \n",
      "total_rec_int                            1734.64      2581.657345  \n",
      "total_rec_late_fee                           0.0         6.215792  \n",
      "recoveries                                   0.0       630.843636  \n",
      "collection_recovery_fee                      0.0        120.19395  \n",
      "last_payment_date            2021-04-01 00:00:00              NaN  \n",
      "last_payment_amount                       562.67      5323.801675  \n",
      "next_payment_date            2022-02-01 00:00:00              NaN  \n",
      "last_credit_pull_date        2022-01-01 00:00:00              NaN  \n",
      "collections_12_mths_ex_med                   0.0         0.070957  \n",
      "mths_since_last_major_derog            42.253634         7.828052  \n",
      "policy_code                                  1.0              0.0  \n"
     ]
    }
   ],
   "source": [
    "# Step 10: Calculate statistical values (mean, median, standard deviation)\n",
    "# Generate summary statistics for numerical columns\n",
    "statistics = df_info.calculate_statistics()\n",
    "print(statistics)"
   ]
  },
  {
   "cell_type": "code",
   "execution_count": 19,
   "metadata": {},
   "outputs": [
    {
     "name": "stdout",
     "output_type": "stream",
     "text": [
      "Distinct values in categorical columns: {'term': 2, 'grade': 7, 'sub_grade': 35, 'employment_length': 11, 'home_ownership': 5, 'verification_status': 3, 'loan_status': 9, 'payment_plan': 2, 'purpose': 14, 'application_type': 1}\n"
     ]
    }
   ],
   "source": [
    "# Step 11: Count distinct values in categorical columns\n",
    "distinct_values = df_info.count_distinct(categorical_columns)\n",
    "print(\"Distinct values in categorical columns:\", distinct_values)"
   ]
  },
  {
   "cell_type": "code",
   "execution_count": 20,
   "metadata": {},
   "outputs": [
    {
     "name": "stdout",
     "output_type": "stream",
     "text": [
      "DataFrame shape (rows, columns): (54231, 43)\n"
     ]
    }
   ],
   "source": [
    "# Step 12: Display shape of the DataFrame\n",
    "df_shape = df_info.get_shape()\n",
    "print(f\"DataFrame shape (rows, columns): {df_shape}\")"
   ]
  },
  {
   "cell_type": "code",
   "execution_count": 21,
   "metadata": {},
   "outputs": [
    {
     "name": "stdout",
     "output_type": "stream",
     "text": [
      "NULL values in DataFrame:\n",
      "                              null_count  null_percent\n",
      "id                                    0      0.000000\n",
      "member_id                             0      0.000000\n",
      "loan_amount                           0      0.000000\n",
      "funded_amount                         0      0.000000\n",
      "funded_amount_inv                     0      0.000000\n",
      "term                               4772      8.799395\n",
      "int_rate                              0      0.000000\n",
      "instalment                            0      0.000000\n",
      "grade                                 0      0.000000\n",
      "sub_grade                             0      0.000000\n",
      "employment_length                  2118      3.905515\n",
      "home_ownership                        0      0.000000\n",
      "annual_inc                            0      0.000000\n",
      "verification_status                   0      0.000000\n",
      "issue_date                            0      0.000000\n",
      "loan_status                           0      0.000000\n",
      "payment_plan                          0      0.000000\n",
      "purpose                               0      0.000000\n",
      "dti                                   0      0.000000\n",
      "delinq_2yrs                           0      0.000000\n",
      "earliest_credit_line                  0      0.000000\n",
      "inq_last_6mths                        0      0.000000\n",
      "mths_since_last_delinq                0      0.000000\n",
      "mths_since_last_record                0      0.000000\n",
      "open_accounts                         0      0.000000\n",
      "total_accounts                        0      0.000000\n",
      "out_prncp                             0      0.000000\n",
      "out_prncp_inv                         0      0.000000\n",
      "total_payment                         0      0.000000\n",
      "total_payment_inv                     0      0.000000\n",
      "total_rec_prncp                       0      0.000000\n",
      "total_rec_int                         0      0.000000\n",
      "total_rec_late_fee                    0      0.000000\n",
      "recoveries                            0      0.000000\n",
      "collection_recovery_fee               0      0.000000\n",
      "last_payment_date                    73      0.134609\n",
      "last_payment_amount                   0      0.000000\n",
      "next_payment_date                 32608     60.127971\n",
      "last_credit_pull_date                 7      0.012908\n",
      "collections_12_mths_ex_med            0      0.000000\n",
      "mths_since_last_major_derog           0      0.000000\n",
      "policy_code                           0      0.000000\n",
      "application_type                      0      0.000000\n"
     ]
    }
   ],
   "source": [
    "# Step 13: Count NULL values in the DataFrame\n",
    "null_counts = df_info.count_nulls()\n",
    "print(\"NULL values in DataFrame:\\n\", null_counts)"
   ]
  },
  {
   "cell_type": "code",
   "execution_count": 22,
   "metadata": {},
   "outputs": [
    {
     "name": "stdout",
     "output_type": "stream",
     "text": [
      "Cleaned DataFrame saved to 'loan_payments_cleaned.csv'.\n"
     ]
    }
   ],
   "source": [
    "# Step 14: Save the cleaned DataFrame to a new CSV file for future analysis\n",
    "# Save to 'loan_payments_cleaned.csv'\n",
    "transformer.df.to_csv('loan_payments_cleaned.csv', index=False)\n",
    "print(\"Cleaned DataFrame saved to 'loan_payments_cleaned.csv'.\")"
   ]
  }
 ],
 "metadata": {
  "kernelspec": {
   "display_name": "base",
   "language": "python",
   "name": "python3"
  },
  "language_info": {
   "codemirror_mode": {
    "name": "ipython",
    "version": 3
   },
   "file_extension": ".py",
   "mimetype": "text/x-python",
   "name": "python",
   "nbconvert_exporter": "python",
   "pygments_lexer": "ipython3",
   "version": "3.11.5"
  }
 },
 "nbformat": 4,
 "nbformat_minor": 2
}
